{
 "cells": [
  {
   "cell_type": "markdown",
   "metadata": {},
   "source": [
    "# Lesson 4 Linear Regression"
   ]
  },
  {
   "cell_type": "code",
   "execution_count": 1,
   "metadata": {
    "collapsed": true
   },
   "outputs": [],
   "source": [
    "%matplotlib inline\n",
    "import matplotlib.pyplot as plt\n",
    "import numpy as np\n",
    "import automatic_diff as ad"
   ]
  },
  {
   "cell_type": "markdown",
   "metadata": {},
   "source": [
    "We generate some data by adding a bit of noise to a linear function.  \n",
    "Least squares regression should be able to recover the parameters of the generating \n",
    "linear function."
   ]
  },
  {
   "cell_type": "code",
   "execution_count": 2,
   "metadata": {},
   "outputs": [
    {
     "data": {
      "image/png": "[encoded data removed]",
      "text/plain": [
       "<Figure size 432x288 with 1 Axes>"
      ]
     },
     "metadata": {},
     "output_type": "display_data"
    }
   ],
   "source": [
    "slope = 2.5\n",
    "intercept = 4\n",
    "X = [0, 1, 2, 3, 4, 5, 6]\n",
    "noise = [0.1, -0.1, -0.1, 0.1, -0.1, 0.0, 0.1]\n",
    "noise_level = 10\n",
    "y_line = [slope * x + intercept for x in X]\n",
    "y = [x + noise_level*n for x, n in zip(y_line, noise)]\n",
    "\n",
    "plt.plot(X, y, 'ro', X, y_line)\n",
    "plt.show()"
   ]
  },
  {
   "cell_type": "code",
   "execution_count": 3,
   "metadata": {},
   "outputs": [
    {
     "name": "stdout",
     "output_type": "stream",
     "text": [
      "Estimated intercept: 3.785711998669087\n",
      "Estimated Slope: 2.5714291113267063\n"
     ]
    }
   ],
   "source": [
    "model = ad.linear_regression.LinearRegression([[x] for x in X], y, init_params=[0, 1])\n",
    "params = model.fit(max_iters=5000, tol=1e-8, lr=0.005, verbose=False)\n",
    "\n",
    "print(\"Estimated intercept:\", params.x[0])\n",
    "print(\"Estimated Slope:\", params.x[1])"
   ]
  },
  {
   "cell_type": "markdown",
   "metadata": {},
   "source": [
    "Okay, this kind of worked, as it should have found $(intercept, slope) = (4, 2.5)$.   \n",
    "But even with a large number of iterations, the algorithm is stalling quite a bit before\n",
    "reaching the real values. \n",
    "\n",
    "## Variable Learning Rates\n",
    "\n",
    "We'll play around a bit with variable learning rates."
   ]
  },
  {
   "cell_type": "code",
   "execution_count": 4,
   "metadata": {},
   "outputs": [
    {
     "name": "stdout",
     "output_type": "stream",
     "text": [
      "Estimated intercept: 3.7470674927099767\n",
      "Estimated Slope: 2.580551841689951\n"
     ]
    }
   ],
   "source": [
    "model = ad.linear_regression.LinearRegression([[x] for x in X], y, init_params=[0, 1])\n",
    "lr = ad.learning_rates.TimeDecayLearningRate(lr=0.1, decay_rate=0.1)\n",
    "params = model.fit(max_iters=5000, tol=1e-8, lr=lr, verbose=False)\n",
    "\n",
    "print(\"Estimated intercept:\", params.x[0])\n",
    "print(\"Estimated Slope:\", params.x[1])"
   ]
  },
  {
   "cell_type": "code",
   "execution_count": 5,
   "metadata": {},
   "outputs": [
    {
     "name": "stdout",
     "output_type": "stream",
     "text": [
      "Estimated intercept: 3.7828730156324912\n",
      "Estimated Slope: 2.5720989463975426\n"
     ]
    }
   ],
   "source": [
    "model = ad.linear_regression.LinearRegression([[x] for x in X], y, init_params=[0, 1])\n",
    "lr = ad.learning_rates.GradDecayLearningRate(lr=0.1)\n",
    "params = model.fit(max_iters=1000, tol=1e-4, lr=lr, verbose=False)\n",
    "\n",
    "print(\"Estimated intercept:\", params.x[0])\n",
    "print(\"Estimated Slope:\", params.x[1])"
   ]
  },
  {
   "cell_type": "code",
   "execution_count": 8,
   "metadata": {},
   "outputs": [
    {
     "name": "stdout",
     "output_type": "stream",
     "text": [
      "Estimated intercept: 3.7857143012035803\n",
      "Estimated Slope: 2.5714286858615747\n"
     ]
    }
   ],
   "source": [
    "model = ad.linear_regression.LinearRegression([[x] for x in X], y, init_params=[0, 1])\n",
    "lr = ad.learning_rates.MomentumLearningRate(lr=0.1, momentum_rate=0.9)\n",
    "params = model.fit(max_iters=1000, tol=1e-8, lr=lr, verbose=False)\n",
    "\n",
    "print(\"Estimated intercept:\", params.x[0])\n",
    "print(\"Estimated Slope:\", params.x[1])"
   ]
  },
  {
   "cell_type": "markdown",
   "metadata": {},
   "source": [
    "Huh.  Even with the more sophisticated learning rate schedules, we're not getting any better. \n",
    "\n",
    "Admittedly, I have done almost no research on adaptive learning rates, so I'm sure my naive implementations of these leave much room for improvement."
   ]
  },
  {
   "cell_type": "code",
   "execution_count": null,
   "metadata": {
    "collapsed": true
   },
   "outputs": [],
   "source": []
  }
 ],
 "metadata": {
  "kernelspec": {
   "display_name": "Python 3",
   "language": "python",
   "name": "python3"
  },
  "language_info": {
   "codemirror_mode": {
    "name": "ipython",
    "version": 3
   },
   "file_extension": ".py",
   "mimetype": "text/x-python",
   "name": "python",
   "nbconvert_exporter": "python",
   "pygments_lexer": "ipython3",
   "version": "3.5.4"
  }
 },
 "nbformat": 4,
 "nbformat_minor": 2
}
