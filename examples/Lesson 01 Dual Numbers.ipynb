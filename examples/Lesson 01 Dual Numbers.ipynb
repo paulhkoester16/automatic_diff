{
 "cells": [
  {
   "cell_type": "markdown",
   "metadata": {},
   "source": [
    "# Lesson 01: Dual Numbers and Automatic Differentiation"
   ]
  },
  {
   "cell_type": "code",
   "execution_count": 1,
   "metadata": {
    "collapsed": true
   },
   "outputs": [],
   "source": [
    "import numpy as np\n",
    "import automatic_diff as ad"
   ]
  },
  {
   "cell_type": "markdown",
   "metadata": {},
   "source": [
    "A dual number consists of a pair, $(x, dx)$, where $x$ is a real number and $dx$ is a gradient step."
   ]
  },
  {
   "cell_type": "code",
   "execution_count": 2,
   "metadata": {},
   "outputs": [
    {
     "data": {
      "text/plain": [
       "3 + 1 eps"
      ]
     },
     "execution_count": 2,
     "metadata": {},
     "output_type": "execute_result"
    }
   ],
   "source": [
    "x = ad.dual_number.DualNumber(x=3, dx=1)\n",
    "x"
   ]
  },
  {
   "cell_type": "markdown",
   "metadata": {},
   "source": [
    "Dual numbers provide automatic differentiation of function $f$ via the rule\n",
    "$$\n",
    "f((x, dx)) = (f(x), f'(x)\\cdot dx)\n",
    "$$\n",
    "\n",
    "For example, the basic power rule gives\n",
    "$$\n",
    "(x, dx)^2 = (x^2, 2\\cdot x \\cdot dx)\n",
    "$$\n"
   ]
  },
  {
   "cell_type": "code",
   "execution_count": 3,
   "metadata": {},
   "outputs": [
    {
     "data": {
      "text/plain": [
       "9 + 6 eps"
      ]
     },
     "execution_count": 3,
     "metadata": {},
     "output_type": "execute_result"
    }
   ],
   "source": [
    "x**2"
   ]
  },
  {
   "cell_type": "markdown",
   "metadata": {},
   "source": [
    "Our implementation of dual numbers overloads the basic python arithmetic operations, like addition, subtraction, multiplication, division, powers.  \n",
    "\n",
    "Transcendental functions, like trig functions, exponentials, and logarithms, will need to be accessed through `automatic_diff.functions`.\n",
    "\n",
    "\n",
    "The interested reader is encouraged to look at the source code for both the `dual_numbers` and `functions` modules to see how we implement this, but this notebook is concerned with the functionality, not the implementation. "
   ]
  },
  {
   "cell_type": "markdown",
   "metadata": {},
   "source": [
    "A sanity check (and quick freshman calculus review for the reader!)\n",
    "\n",
    "$$\n",
    "\\frac{d}{dx}\\frac{\\cos{x}}{\\sqrt{1 + x^2}}\n",
    "= \n",
    "\\frac{-\\sin{(x)} \\cdot \\sqrt{1 + x^2} - \\cos{(x)} (1 + x^2)^{-1/2} \\cdot x }{1 + x^2}\n",
    "$$\n"
   ]
  },
  {
   "cell_type": "code",
   "execution_count": 4,
   "metadata": {},
   "outputs": [
    {
     "name": "stdout",
     "output_type": "stream",
     "text": [
      "f(3) =  -0.31306311557339084\n",
      "f'(3) =  0.049292869782967284\n"
     ]
    }
   ],
   "source": [
    "f_np = lambda x: np.cos(x)/(1 + x**2)**0.5\n",
    "df_np = lambda x: (\n",
    "    (-np.sin(x) * (1 + x**2)**(0.5) - np.cos(x) * (1 + x**2)**(-1/2) * x)/(1 + x**2))\n",
    "\n",
    "print(\"f(3) = \", f_np(3))\n",
    "print(\"f'(3) = \", df_np(3))"
   ]
  },
  {
   "cell_type": "markdown",
   "metadata": {},
   "source": [
    "But by using dual numbers, we only need to specify the functions.  We get the derivatives for free!"
   ]
  },
  {
   "cell_type": "code",
   "execution_count": 5,
   "metadata": {},
   "outputs": [
    {
     "name": "stdout",
     "output_type": "stream",
     "text": [
      "-0.31306311557339084 + 0.04929286978296728 eps\n"
     ]
    }
   ],
   "source": [
    "f_ad = lambda x: ad.functions.cos(x) / (1 + x**2)**0.5\n",
    "print(f_ad(x))"
   ]
  },
  {
   "cell_type": "markdown",
   "metadata": {},
   "source": [
    "## Initializing dual numbers\n",
    "\n",
    "When we instantiate a dual number, we need to specify both $x$ and $dx$.\n",
    "\n",
    "For univiariate functions, we usually only use two cases:\n",
    "*  Setting $dx=1$ lets function know that $x$ is a variable, and function should be differentiated with respect to it.\n",
    "*  Setting $dx=0$ lets function know that $x$ is a constant.\n",
    "\n",
    "Toggling the $dx$ between $0$ and $1$ will be really convenient for multivariable functions, for example distinguishing between partial with respect to $x_1$ versus partial with respect to $x_2.$\n",
    "\n",
    "\n",
    "For example, \n",
    "$$\n",
    "    \\frac{d}{dx} x^2 \\vert_{x=5} = 2\\cdot x \\vert_{x=5} = 10\n",
    "$$\n",
    "but\n",
    "$$\n",
    "    \\frac{d}{dx} 5^2 = \\frac{d}{dx} 25 = 0\n",
    "$$"
   ]
  },
  {
   "cell_type": "code",
   "execution_count": 6,
   "metadata": {},
   "outputs": [
    {
     "name": "stdout",
     "output_type": "stream",
     "text": [
      "25 + 10 eps\n",
      "25 + 0 eps\n"
     ]
    }
   ],
   "source": [
    "print(ad.dual_number.DualNumber(5, 1)**2)\n",
    "print(ad.dual_number.DualNumber(5, 0)**2)"
   ]
  }
 ],
 "metadata": {
  "kernelspec": {
   "display_name": "Python 3",
   "language": "python",
   "name": "python3"
  },
  "language_info": {
   "codemirror_mode": {
    "name": "ipython",
    "version": 3
   },
   "file_extension": ".py",
   "mimetype": "text/x-python",
   "name": "python",
   "nbconvert_exporter": "python",
   "pygments_lexer": "ipython3",
   "version": "3.5.4"
  }
 },
 "nbformat": 4,
 "nbformat_minor": 2
}
