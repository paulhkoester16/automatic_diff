{
 "cells": [
  {
   "cell_type": "markdown",
   "metadata": {},
   "source": [
    "# Lesson 2 Automatic Differentiation for Multivariate Functions"
   ]
  },
  {
   "cell_type": "code",
   "execution_count": 1,
   "metadata": {
    "collapsed": true
   },
   "outputs": [],
   "source": [
    "import numpy as np\n",
    "import automatic_diff as ad"
   ]
  },
  {
   "cell_type": "markdown",
   "metadata": {},
   "source": [
    "For multivariable functions, we'll need to be able to distinguish between, say partial derivative with respect to $x_1$ vs partial with respect to $x_2.$  \n",
    "\n",
    "The `automatic_differentiation.gradients` module provides convenience methods for doing so.\n",
    "\n",
    "\n",
    "Say \n",
    "$$\n",
    "    f(x_0, x_1) = x_0 \\cdot x_1 + \\sin{(x_0)}\n",
    "$$\n",
    "\n",
    "Then \n",
    "$$\n",
    "    \\frac{\\partial f}{\\partial x_0} = x_1 + \\cos{(x_0)}\n",
    "$$\n",
    "and \n",
    "$$\n",
    "    \\frac{\\partial f}{\\partial x_1} = x_0\n",
    "$$\n",
    "\n"
   ]
  },
  {
   "cell_type": "code",
   "execution_count": 2,
   "metadata": {},
   "outputs": [
    {
     "name": "stdout",
     "output_type": "stream",
     "text": [
      "f(pi/3, 7) =  8.196408262160622\n",
      "f_0(pi/3, 7) =  7.5\n",
      "f_1(pi/3, 7) =  1.0471975511965976\n"
     ]
    }
   ],
   "source": [
    "x = [np.pi/3, 7]\n",
    "\n",
    "print(\"f(pi/3, 7) = \", x[0] * x[1] + np.sin(x[0]))\n",
    "print(\"f_0(pi/3, 7) = \", x[1] + np.cos(x[0]))\n",
    "print(\"f_1(pi/3, 7) = \", x[0])"
   ]
  },
  {
   "cell_type": "markdown",
   "metadata": {},
   "source": [
    "Or more simply, we can get the partial derivatives automatically from the `gradients` module."
   ]
  },
  {
   "cell_type": "code",
   "execution_count": 3,
   "metadata": {},
   "outputs": [
    {
     "name": "stdout",
     "output_type": "stream",
     "text": [
      "8.196408262160622 + 7.5 eps\n",
      "8.196408262160622 + 1.0471975511965976 eps\n",
      "(array(8.19640826), [array(7.5), array(1.04719755)])\n"
     ]
    }
   ],
   "source": [
    "f_multivar = lambda d_0, d_1: d_0 * d_1 + ad.functions.sin(d_0)\n",
    "\n",
    "print(ad.gradients.partial_der(x, f_multivar, 0))\n",
    "print(ad.gradients.partial_der(x, f_multivar, 1))\n",
    "\n",
    "print(ad.gradients.gradient(x, f_multivar))"
   ]
  },
  {
   "cell_type": "markdown",
   "metadata": {},
   "source": [
    "Note that the gradients and partial derivatives just take normal numbers, not dual numbers, as inputs.  This is because the gradient computes the derivative with respect to each basis variable, so it will internally loop over all relevant cases.\n",
    "\n",
    "The directional derivative is more closely the analog of the dual numbers for multivariate functions.\n",
    "\n",
    "For example, the directional derivative of the above evaluation, in the $[3/5, 4/5]$ direction is\n",
    "$$\n",
    "    \\frac{3}{5} \\cdot \\frac{\\partial f}{\\partial x_0}\n",
    "    + \n",
    "    \\frac{4}{5} \\cdot \\frac{\\partial f}{\\partial x_1}\n",
    "$$\n",
    "which should be "
   ]
  },
  {
   "cell_type": "code",
   "execution_count": 4,
   "metadata": {},
   "outputs": [
    {
     "data": {
      "text/plain": [
       "array(5.33775804)"
      ]
     },
     "execution_count": 4,
     "metadata": {},
     "output_type": "execute_result"
    }
   ],
   "source": [
    "(\n",
    "    3/5 * ad.gradients.partial_der(x, f_multivar, 0)\n",
    "    + 4/5 * ad.gradients.partial_der(x, f_multivar, 1)\n",
    ").dx"
   ]
  },
  {
   "cell_type": "markdown",
   "metadata": {},
   "source": [
    "Which is what we get using the direction derivative method"
   ]
  },
  {
   "cell_type": "code",
   "execution_count": 5,
   "metadata": {},
   "outputs": [
    {
     "data": {
      "text/plain": [
       "8.196408262160622 + 5.3377580409572785 eps"
      ]
     },
     "execution_count": 5,
     "metadata": {},
     "output_type": "execute_result"
    }
   ],
   "source": [
    "dx = [3/5, 4/5]\n",
    "x_dual = ad.dual_number.DualNumber(x, dx)\n",
    "\n",
    "ad.gradients.directional_der(x_dual, f_multivar)"
   ]
  }
 ],
 "metadata": {
  "kernelspec": {
   "display_name": "Python 3",
   "language": "python",
   "name": "python3"
  },
  "language_info": {
   "codemirror_mode": {
    "name": "ipython",
    "version": 3
   },
   "file_extension": ".py",
   "mimetype": "text/x-python",
   "name": "python",
   "nbconvert_exporter": "python",
   "pygments_lexer": "ipython3",
   "version": "3.5.4"
  }
 },
 "nbformat": 4,
 "nbformat_minor": 2
}
