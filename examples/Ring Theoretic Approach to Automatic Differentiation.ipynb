{
 "cells": [
  {
   "cell_type": "markdown",
   "metadata": {},
   "source": [
    "One approach to automatic differentiation arises from imposing a commutative ring structure on function and its derivative.\n",
    "\n",
    "Specifically, we define an algebraic structure on tuples of real-numbers as follows\n",
    "$$\n",
    "  (a_0, a_1) + (b_0, b_1) = (a_0 + b_0, a_1 + b_1)\n",
    "$$\n",
    "and \n",
    "$$\n",
    "  (a_0, a_1) \\cdot (b_0, b_1) = (a_0 \\cdot b_0, a_1 \\cdot b_0 + a_0 \\cdot b_1)\n",
    "$$\n",
    "\n",
    "It is straightforwad to verify that this gives defines a commutiative ring with identity $(1, 0)$.   \n",
    "\n",
    "For example, the above structure is isomorphic to $\\mathbb{R}[X]/(X^2).$  \n",
    "\n",
    "If you don't know what that means, you can think of our approach as treating functions as if they were just formal Taylor series, performing algebraic operations like addition and multiplication on said Taylor series, defining the function via the zeroth term, defining the dervative as the first term, and throwing away all the higher terms.\n",
    "\n",
    "\n",
    "It is also easy to verify that any element with $a_0 \\neq 0$ has a multiplicative inverse, namely\n",
    "$$\n",
    "    (a_0, a_1)^{-1} = (1/a_0, -a_1/a_0^2)\n",
    "$$"
   ]
  },
  {
   "cell_type": "markdown",
   "metadata": {},
   "source": [
    "## Dual Numbers\n",
    "\n",
    "Given such a tuple, we'll associate the first component to a variable, say $x$, and the second\n",
    "component to the differential $dx$.  \n",
    "\n",
    "We'll refer to $(x, dx)$ tuples, equipped with this algebraic structeure, as *dual numbers*\n",
    "\n",
    "Rewriting the addition and multiplication rules above recover the familiar sum and product rules from freshman calculus.\n",
    "\n",
    "$$\n",
    "  (x, dx) + (y, dy) = (x + y, dx + dy)\n",
    "$$\n",
    "and \n",
    "$$\n",
    "  (x, dx) \\cdot (y, dy) = (x \\cdot y, dx \\cdot y + x \\cdot dy)\n",
    "$$\n",
    "\n",
    "\n",
    "These two rules alone are able to recover many basic results from freshman calculus.\n",
    "\n",
    "For example, using the multiplication rule recovers the power rule:\n",
    "$$\n",
    "    (x, dx) \\cdot (x, dx) = (x^2, 2\\cdot x\\cdot dx)\n",
    "$$\n",
    "\n",
    "Combining the multiplication rule with the multiplicative inverse recovers the quotient rule:\n",
    "$$\n",
    "    (x, dx) \\cdot (y, dy)^{-1}\n",
    "    = (x, dx) \\cdot \\left(\\frac{1}{y}, \\frac{-dy}{y^2}\\right)\n",
    "    = \\left(\\frac{x}{y}, \\frac{1}{y} dx - \\frac{x}{y^2} dy\\right)\n",
    "    = \\left(\\frac{x}{y}, \\frac{y \\cdot dx - x\\cdot dy}{y^2}\\right)\n",
    "$$"
   ]
  },
  {
   "cell_type": "markdown",
   "metadata": {},
   "source": [
    "## Dual Numbers via Operator Overloading in Python \n",
    "\n",
    "In addition to it's theoretical beauty, automatic differentiation with dual numbers\n",
    "also gives us an excuse to more deeply explore operator overloading in python.  \n",
    "\n",
    "I had been aware that one could overload the `+`, `*`, `/`, `**` operators for \n",
    "your own custom classes, but I had never had a practical excuse for doing so.  "
   ]
  },
  {
   "cell_type": "code",
   "execution_count": 1,
   "metadata": {},
   "outputs": [
    {
     "name": "stdout",
     "output_type": "stream",
     "text": [
      "125 + 75 eps\n",
      "8 + -2 eps\n",
      "15 + -12 eps\n",
      "1.6666666666666667 + 2.0 eps\n"
     ]
    }
   ],
   "source": [
    "class DualNumber:\n",
    "    \n",
    "    def __init__(self, x, dx):\n",
    "        self.x = x\n",
    "        self.dx = dx\n",
    "\n",
    "    def __repr__(self):\n",
    "        return \"{} + {} eps\".format(self.x, self.dx)\n",
    "        \n",
    "    def __pow__(self, power):\n",
    "        x = self.x ** power\n",
    "        dx = power * self.x ** (power - 1) * self.dx\n",
    "        return self.__class__(x=x, dx=dx)\n",
    "        \n",
    "    def __add__(self, other):\n",
    "        x = self.x + other.x\n",
    "        dx = self.dx + other.dx\n",
    "        return self.__class__(x=x, dx=dx)\n",
    "    \n",
    "    def __sub__(self, other):\n",
    "        x = self.x - other.x\n",
    "        dx = self.dx - other.dx\n",
    "        return self.__class__(x=x, dx=dx)\n",
    "    \n",
    "    def __mul__(self, other):\n",
    "        x = self.x * other.x\n",
    "        dx = self.dx * other.x + self.x * other.dx\n",
    "        return self.__class__(x=x, dx=dx)\n",
    "    \n",
    "    def __truediv__(self, other):\n",
    "        x = self.x / other.x\n",
    "        dx = (self.dx * other.x - self.x * other.dx) / other.x ** 2\n",
    "        return self.__class__(x=x, dx=dx)\n",
    "\n",
    "\n",
    "dual_1 = DualNumber(5, 1)\n",
    "dual_2 = DualNumber(3, -3)\n",
    "\n",
    "print(dual_1**3)\n",
    "print(dual_1 + dual_2)\n",
    "print(dual_1 * dual_2)\n",
    "print(dual_1 / dual_2)"
   ]
  },
  {
   "cell_type": "markdown",
   "metadata": {},
   "source": [
    "See `automatic_diff.dual_number.py` for this idea taken to completion.  "
   ]
  },
  {
   "cell_type": "markdown",
   "metadata": {},
   "source": [
    "## Functions of Dual Numbers\n",
    "\n",
    "Let $f:\\mathbb{R} \\rightarrow \\mathbb{R}$.   We need to define a rule that will allow us to extend $f$ to a mapping from dual number to dual number.  (We'll abuse notation, using $f$ to denote either the real-valued function or the dual-number valued function.)\n",
    "$$\n",
    "    f((x, dx)) = (f(x),  f'(x)\\cdot dx)\n",
    "$$\n",
    "\n",
    "### Chain rule?\n",
    "\n",
    "Suppose we have real valued functions $f$ and $g$ and then define $h = g \\circ f$.   \n",
    "Lets use the above definition to extend $f$ and $g$ to dual-number functions,  \n",
    "$f((x, dx)) = (f(x), f'(x) \\cdot dx)$ and $g((y, dy)) = (g(y), g'(y) \\cdot dy)$\n",
    "\n",
    "Substituting $(f(x), f'(x) \\cdot dx)$ for $(y, dy)$ gives \n",
    "$$\n",
    "g(f(x, dx)) = (g(f(x)), g'(f(x))\\cdot f'(x)\\cdot dx)\n",
    "$$\n",
    "In other words, in the world of dual numbers, the chain rule is just a trivial algebraic consequence of how we define functions.\n",
    "\n",
    "\n",
    "Notice how beautiful this idea is!  In freshman calculus, we think of the functions as somehow being fundamental objects, but derivatives are obtained by performing some tedious action \n",
    "on the fundamental function.  In the world of dual numbers, the derivatives are on equal footing with the fundamental function.  The derivatives don't require any extra effort.  They are just, well, automatically there!\n",
    "\n",
    "Also note that we have not done any calculus here.  No difference quotients.  No limits.   All we've done is to define three algebraic operations, and bunch of basic calculus just falls out of those algebraic operations -- albeit those definitions were directly inspired by calculus theorems.\n"
   ]
  },
  {
   "cell_type": "markdown",
   "metadata": {},
   "source": [
    "## What about Sine?\n",
    "\n",
    "What about $f(x) = \\sin{(x)}?$  Unfortunately, the rules above are purely algebraic, but the trigonometric functions are transcendental (fancy way of saying no finite combinations of multiplications, additions, powers, compositions of $x$ will give rise to $\\sin{(x)}$).  \n",
    "\n",
    "In other words, our automatic differentiation system needs our help.  We need to tell it how to extend $\\sin$ to a dual-number function.\n",
    "\n",
    "$$\n",
    "    \\sin{((x, dx))} = (\\sin{(x)}, \\cos{(x)} \\cdot dx)\n",
    "$$\n",
    "\n",
    "\n",
    "But now that we've given it that hint, it can take care of the other trig functions on its own, and it can take can over any algebraic combination $x$ and trig functions.\n",
    "\n",
    "For example, \n",
    "$$\n",
    "   f(x) = x \\sin{(x)}\n",
    "$$\n",
    "then \n",
    "$$\n",
    "   f((x, dx)) = (x, dx) \\cdot (\\sin{(x)}, \\cos{(x)}\\cdot dx)\n",
    "   = (x\\sin{(x)}, dx \\cdot \\sin{(x)} + x \\cos{(x)}\\cdot dx )\n",
    "$$\n",
    "\n",
    "\n",
    "Technically, the automatic differentiation system should now know how to handle all of the\n",
    "the other trig functions, since they can all be expressed in terms of $\\sin$.  However, in our implementation, we chose to also tell it \n",
    "$$\n",
    "    \\cos{((x, dx))} = (\\cos{(x)}, -\\sin{(x)} \\cdot dx)\n",
    "$$\n",
    "since that seemed more natural than telling it that $\\cos{(x)} = \\sin{(\\pi/2 - x)}$"
   ]
  },
  {
   "cell_type": "code",
   "execution_count": 2,
   "metadata": {},
   "outputs": [
    {
     "name": "stdout",
     "output_type": "stream",
     "text": [
      "0.49999999999999994 + 0.8660254037844387 eps\n",
      "0.5773502691896256 + 1.333333333333333 eps\n"
     ]
    }
   ],
   "source": [
    "import numpy as np\n",
    "\n",
    "def sin(d: DualNumber):\n",
    "    return DualNumber(np.sin(d.x), np.cos(d.x) * d.dx)\n",
    "\n",
    "def cos(d: DualNumber):\n",
    "    return DualNumber(np.cos(d.x), - np.sin(d.x) * d.dx)\n",
    "\n",
    "trig_dual = DualNumber(np.pi/6, 1)\n",
    "tan = lambda d: sin(d)/cos(d)\n",
    "\n",
    "print(sin(trig_dual))\n",
    "print(tan(trig_dual))"
   ]
  },
  {
   "cell_type": "markdown",
   "metadata": {},
   "source": [
    "## Other functions?\n",
    "\n",
    "Does our automatic differentiation system need any other hints from us?  Unless we bring in complex numbers, the exponentials and logarithms are not expressable in terms of any of the operations we've discussed so far, so we'll need to give it another hint.\n",
    "\n",
    "$$\n",
    "    \\exp{((x, dx))} = (\\exp{(x)}, \\exp{(x)} \\cdot dx)\n",
    "$$\n",
    "\n",
    "Technically, the automatic differentiation system should now know how to handle logarithms as\n",
    "well, via inverse function rules, but we found it easier to just tell it \n",
    "$$\n",
    "    \\ln{(x, dx)} = (\\ln{(x)}, dx/x)\n",
    "$$\n",
    "\n",
    "\n",
    "This still doesn't cover everything, for example Bessel functions and other similar special functions can't be expressed as finite algebraic combinations of $x$, $trig(x)$, $exp(x)$, $log(x)$.  So if we need to handle Bessel functions, we would need to give our automatic differentiation systems hints on how to deal with a few of them.  My suspicion is that you can never give the system enough hints to allow it to handle *every* differentiable function, but I did not find any references for that claim.  (About 2 minutes of Googling \"transcendental degree of differentiable functions\" was unsuccessful.\n"
   ]
  }
 ],
 "metadata": {
  "kernelspec": {
   "display_name": "Python 3",
   "language": "python",
   "name": "python3"
  },
  "language_info": {
   "codemirror_mode": {
    "name": "ipython",
    "version": 3
   },
   "file_extension": ".py",
   "mimetype": "text/x-python",
   "name": "python",
   "nbconvert_exporter": "python",
   "pygments_lexer": "ipython3",
   "version": "3.5.4"
  }
 },
 "nbformat": 4,
 "nbformat_minor": 2
}
